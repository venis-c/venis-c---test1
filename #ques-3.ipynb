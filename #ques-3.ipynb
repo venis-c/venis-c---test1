{
 "cells": [
  {
   "cell_type": "code",
   "execution_count": 1,
   "id": "b60db241",
   "metadata": {},
   "outputs": [
    {
     "name": "stdout",
     "output_type": "stream",
     "text": [
      "sour fruits : ['lemon', 'grapes', 'kiwi', 'orange', 'limes']\n"
     ]
    }
   ],
   "source": [
    "#3\n",
    "fruits=(('lemon','sour'),('dragonfruit','sweet'),('grapes','sour'),('kiwi','sour'),('apple','sweet'),('orange','sour'),('blueberries','sweet'),('limes','sour'))\n",
    "l=[]\n",
    "for i in fruits:\n",
    "    if i[1]=='sour':\n",
    "        l.append(i[0])\n",
    "print('sour fruits :',l)"
   ]
  },
  {
   "cell_type": "code",
   "execution_count": null,
   "id": "fd6d71a8",
   "metadata": {},
   "outputs": [],
   "source": []
  }
 ],
 "metadata": {
  "kernelspec": {
   "display_name": "Python 3",
   "language": "python",
   "name": "python3"
  },
  "language_info": {
   "codemirror_mode": {
    "name": "ipython",
    "version": 3
   },
   "file_extension": ".py",
   "mimetype": "text/x-python",
   "name": "python",
   "nbconvert_exporter": "python",
   "pygments_lexer": "ipython3",
   "version": "3.8.8"
  }
 },
 "nbformat": 4,
 "nbformat_minor": 5
}
