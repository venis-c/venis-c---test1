{
 "cells": [
  {
   "cell_type": "code",
   "execution_count": 1,
   "id": "20b57616",
   "metadata": {},
   "outputs": [
    {
     "name": "stdout",
     "output_type": "stream",
     "text": [
      "output: ['Maria', 'Hello', 'World', 'Merry', 'You']\n"
     ]
    }
   ],
   "source": [
    "#6\n",
    "namelist=['santa Maria','Hello World','Merry christmas','tHank You']\n",
    "l=[]\n",
    "for i in namelist:\n",
    "    l.append(i.split())\n",
    "l1=[]\n",
    "for i in  l:\n",
    "    for j in i:\n",
    "        if j[0].isupper():\n",
    "            l1.append(j)\n",
    "print('output:',l1)"
   ]
  },
  {
   "cell_type": "code",
   "execution_count": null,
   "id": "7e9bafb4",
   "metadata": {},
   "outputs": [],
   "source": []
  }
 ],
 "metadata": {
  "kernelspec": {
   "display_name": "Python 3",
   "language": "python",
   "name": "python3"
  },
  "language_info": {
   "codemirror_mode": {
    "name": "ipython",
    "version": 3
   },
   "file_extension": ".py",
   "mimetype": "text/x-python",
   "name": "python",
   "nbconvert_exporter": "python",
   "pygments_lexer": "ipython3",
   "version": "3.8.8"
  }
 },
 "nbformat": 4,
 "nbformat_minor": 5
}
