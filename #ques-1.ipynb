{
 "cells": [
  {
   "cell_type": "code",
   "execution_count": 1,
   "id": "0a47ca75",
   "metadata": {},
   "outputs": [
    {
     "name": "stdout",
     "output_type": "stream",
     "text": [
      "the positive comments are  ['he is the good boy', 'he is an awesome player', 'she is the best', 'these burger are really nice']\n",
      "the negative comments are  ['food is the worst here', 'this pizza tastes awful']\n"
     ]
    }
   ],
   "source": [
    "#1\n",
    "positive=['good','awesome','best','nice']\n",
    "negative=['worst','awful']\n",
    "comments=['he is the good boy','food is the worst here','he is an awesome player','she is the best','this pizza tastes awful','these burger are really nice']\n",
    "l=[]\n",
    "l1=[]\n",
    "for i in comments:\n",
    "    for j in negative:\n",
    "        if j in i:\n",
    "            l.append(i)\n",
    "    for k in positive:\n",
    "        if k in i:\n",
    "            l1.append(i)\n",
    "print('the positive comments are ',l1)\n",
    "print('the negative comments are ',l)\n"
   ]
  },
  {
   "cell_type": "code",
   "execution_count": null,
   "id": "6c505d01",
   "metadata": {},
   "outputs": [],
   "source": []
  }
 ],
 "metadata": {
  "kernelspec": {
   "display_name": "Python 3",
   "language": "python",
   "name": "python3"
  },
  "language_info": {
   "codemirror_mode": {
    "name": "ipython",
    "version": 3
   },
   "file_extension": ".py",
   "mimetype": "text/x-python",
   "name": "python",
   "nbconvert_exporter": "python",
   "pygments_lexer": "ipython3",
   "version": "3.8.8"
  }
 },
 "nbformat": 4,
 "nbformat_minor": 5
}
