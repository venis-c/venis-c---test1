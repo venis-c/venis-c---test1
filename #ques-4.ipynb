{
 "cells": [
  {
   "cell_type": "code",
   "execution_count": 1,
   "id": "4b0b4ede",
   "metadata": {},
   "outputs": [
    {
     "name": "stdout",
     "output_type": "stream",
     "text": [
      "output: ['hOw', 'ARe']\n"
     ]
    }
   ],
   "source": [
    "#4\n",
    "l=['hello','Dear','hOw','ARe','You']\n",
    "l1=[]\n",
    "for i in l:\n",
    "    if i[1].isupper():\n",
    "        l1.append(i)\n",
    "print('output:',l1)"
   ]
  },
  {
   "cell_type": "code",
   "execution_count": null,
   "id": "3d4f4978",
   "metadata": {},
   "outputs": [],
   "source": []
  }
 ],
 "metadata": {
  "kernelspec": {
   "display_name": "Python 3",
   "language": "python",
   "name": "python3"
  },
  "language_info": {
   "codemirror_mode": {
    "name": "ipython",
    "version": 3
   },
   "file_extension": ".py",
   "mimetype": "text/x-python",
   "name": "python",
   "nbconvert_exporter": "python",
   "pygments_lexer": "ipython3",
   "version": "3.8.8"
  }
 },
 "nbformat": 4,
 "nbformat_minor": 5
}
