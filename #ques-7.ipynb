{
 "cells": [
  {
   "cell_type": "code",
   "execution_count": 1,
   "id": "3832c1b4",
   "metadata": {},
   "outputs": [
    {
     "name": "stdout",
     "output_type": "stream",
     "text": [
      "output: {8, 3}\n"
     ]
    }
   ],
   "source": [
    "#7\n",
    "given_sets=[[1,2,3,4,8],[2,3,8,5,6],[8,4,5,3,7],[6,9,8,3],[9,12,3,7,6,8,4,6,21,1,6]]\n",
    "l=[]\n",
    "for i in given_sets:\n",
    "    l.append(set(i))\n",
    "print('output:',set.intersection(*[set(x) for x in l]))"
   ]
  },
  {
   "cell_type": "code",
   "execution_count": null,
   "id": "921065d0",
   "metadata": {},
   "outputs": [],
   "source": []
  }
 ],
 "metadata": {
  "kernelspec": {
   "display_name": "Python 3",
   "language": "python",
   "name": "python3"
  },
  "language_info": {
   "codemirror_mode": {
    "name": "ipython",
    "version": 3
   },
   "file_extension": ".py",
   "mimetype": "text/x-python",
   "name": "python",
   "nbconvert_exporter": "python",
   "pygments_lexer": "ipython3",
   "version": "3.8.8"
  }
 },
 "nbformat": 4,
 "nbformat_minor": 5
}
