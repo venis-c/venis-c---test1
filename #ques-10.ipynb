{
 "cells": [
  {
   "cell_type": "code",
   "execution_count": 1,
   "id": "99e16c4b",
   "metadata": {},
   "outputs": [
    {
     "name": "stdout",
     "output_type": "stream",
     "text": [
      "output: ['1997', '2011', '1993', '2020']\n"
     ]
    }
   ],
   "source": [
    "#10\n",
    "dateslist=['17-12-1997','22-4-2011','01-05-1993','19-06-2020']\n",
    "l=[]\n",
    "for i in dateslist:\n",
    "    l.append(i.split(\"-\"))\n",
    "l1=[]\n",
    "for i in l:\n",
    "    for j in i:\n",
    "        if len(j)==4:\n",
    "            l1.append(j)\n",
    "print('output:',l1)\n"
   ]
  },
  {
   "cell_type": "code",
   "execution_count": null,
   "id": "91f98d42",
   "metadata": {},
   "outputs": [],
   "source": []
  }
 ],
 "metadata": {
  "kernelspec": {
   "display_name": "Python 3",
   "language": "python",
   "name": "python3"
  },
  "language_info": {
   "codemirror_mode": {
    "name": "ipython",
    "version": 3
   },
   "file_extension": ".py",
   "mimetype": "text/x-python",
   "name": "python",
   "nbconvert_exporter": "python",
   "pygments_lexer": "ipython3",
   "version": "3.8.8"
  }
 },
 "nbformat": 4,
 "nbformat_minor": 5
}
